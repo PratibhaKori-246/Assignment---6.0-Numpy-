{
 "cells": [
  {
   "cell_type": "markdown",
   "id": "440e138f-57a3-428d-bcbd-61875c0b6a3a",
   "metadata": {},
   "source": [
    "# Assignment - 6.0 {Numpy}"
   ]
  },
  {
   "cell_type": "markdown",
   "id": "bce79b92-2469-4ae7-ae76-1291ffa11310",
   "metadata": {},
   "source": [
    "## Theoretical Questions:"
   ]
  },
  {
   "cell_type": "markdown",
   "id": "7ac73a7f-2d36-4d0e-ae11-ecd9e247e223",
   "metadata": {},
   "source": [
    "Q 1. Explain the purpose and advantages of numpy and scientific computing and data analysis how does it enhance pythons capabilities for numerical operations ."
   ]
  },
  {
   "cell_type": "markdown",
   "id": "aa444cb5-0150-462d-9c96-e30d1e8a5cd2",
   "metadata": {},
   "source": [
    "🔶 Purpose of NumPy\n",
    "\n",
    "NumPy (Numerical Python) is a foundational package for scientific computing in Python. It enhances Python’s capabilities by introducing support for multi-dimensional arrays, efficient numerical computations, and a wide array of mathematical functions. Its primary role in scientific computing and data analysis is to provide an efficient way to perform operations on large datasets .\n",
    "\n",
    " 1 .Efficient Array Operations: NumPy provides the ndarray object, a powerful data structure that supports multi-dimensional arrays (e.g., matrices, tensors) and allows for element-wise operations. This is a significant improvement over Python’s built-in lists, which are not optimized for numerical tasks.\n",
    "\n",
    "2 .Mathematical and Statistical Functions: NumPy offers a comprehensive library of functions for mathematical operations such as linear algebra ,matrix multiplication, and statistical calculations.\n",
    "\n",
    "3 . Interoperability: NumPy serves as the core data structure for many other Python libraries like Pandas, SciPy, and Scikit-learn, making it a crucial building block for data analysis, machine learning, and scientific computing ecosystems.\n",
    "\n",
    "🔶 Advantages of NumPy \n",
    "\n",
    "1. Performance Optimization: NumPy is implemented in C and Fortran, which are much faster than pure Python.\n",
    "\n",
    "2. Memory Efficiency: NumPy arrays are more memory-efficient than Python lists, especially when dealing with large datasets. A Python list contains pointers to data, while NumPy arrays store data directly in contiguous memory blocks, reducing overhead.\n",
    "\n",
    "3. Multi-Dimensional Arrays Support: NumPy provides native support for multi-dimensional arrays, which are essential for numerical computing and scientific problems that often require 2D (matrices), 3D, or higher-dimensional arrays.\n",
    "\n",
    "4. Ease of Complex Mathematical Operations: NumPy simplifies complex operations like matrix multiplications, eigenvalue computations, solving systems of equations, and other.\n",
    "\n",
    "5. Data Compatibility and Integration: NumPy arrays can easily be integrated with libraries like Pandas .\n",
    "\n",
    "   "
   ]
  },
  {
   "cell_type": "code",
   "execution_count": 2,
   "id": "c4317f4b-7ece-4d00-af84-67d9fe219dcc",
   "metadata": {},
   "outputs": [
    {
     "name": "stdout",
     "output_type": "stream",
     "text": [
      "[1 2 3 4 5]\n",
      "[[1 2 3]\n",
      " [4 5 6]]\n",
      "[[[1 2]\n",
      "  [3 4]]\n",
      "\n",
      " [[5 6]\n",
      "  [7 8]]]\n"
     ]
    }
   ],
   "source": [
    "#capabilities for numerical operations\n",
    "\n",
    "#( 1 )creating array\n",
    "import numpy as np\n",
    "\n",
    "# 1D \n",
    "array_1d = np.array([1, 2, 3, 4, 5])\n",
    "print(array_1d)\n",
    "\n",
    "# 2D \n",
    "array_2d = np.array([[1, 2, 3], [4, 5, 6]])\n",
    "print(array_2d)\n",
    "\n",
    "# 3D \n",
    "array_3d = np.array([[[1, 2], [3, 4]], [[5, 6], [7, 8]]])\n",
    "print(array_3d)"
   ]
  },
  {
   "cell_type": "code",
   "execution_count": 6,
   "id": "3170ddf1-14ca-4c8e-8cf5-75337219f229",
   "metadata": {},
   "outputs": [
    {
     "name": "stdout",
     "output_type": "stream",
     "text": [
      "Addition: [46 18 42 56]\n",
      "Multiplication: [205  72 245 384]\n",
      "Division: [8.2 2.  5.  6. ]\n"
     ]
    }
   ],
   "source": [
    "# (2)operation\n",
    "a = np.array([41 , 12 , 35 , 48])\n",
    "b = np.array([5 , 6 , 7 , 8])\n",
    "\n",
    "#addition\n",
    "addition = a + b\n",
    "print(\"Addition:\", addition)\n",
    "\n",
    "#  multiplication\n",
    "multiplication = a * b\n",
    "print(\"Multiplication:\", multiplication)\n",
    "\n",
    "#  division\n",
    "division = a  / b\n",
    "print(\"Division:\", division)"
   ]
  },
  {
   "cell_type": "markdown",
   "id": "0a8caa24-e3ca-484e-8da3-cdb666c21f4c",
   "metadata": {},
   "source": [
    "Q 2. Compare and contrast np.mean and np.average functions and numpy when would you use one over the other ?"
   ]
  },
  {
   "cell_type": "markdown",
   "id": "426d1c5b-ad3a-409e-aed5-06342479a58e",
   "metadata": {},
   "source": [
    "Comparision b/w np.mean and no.average\n",
    "\n",
    " .Basic Functionality\n",
    "\n",
    "🟣 np.mean():\n",
    "\n",
    "Purpose: Computes the arithmetic mean (average) of elements in an array.\n",
    "\n",
    "Default behavior: Computes the mean across all elements of the array. If you specify an axis, it computes the mean along that axis.\n",
    "\n",
    "Weighting: Does not support weighted averages; every element is treated equally.\n",
    "\n",
    " "
   ]
  },
  {
   "cell_type": "code",
   "execution_count": 7,
   "id": "0099317a-ef15-4cc2-9a89-70b9fb2c892d",
   "metadata": {},
   "outputs": [
    {
     "name": "stdout",
     "output_type": "stream",
     "text": [
      "3.0\n",
      "[1.5 3.5 5.5]\n"
     ]
    }
   ],
   "source": [
    "#use of np.mean\n",
    "import numpy as np\n",
    "\n",
    "data = np.array([1, 2, 3, 4, 5])\n",
    "\n",
    "mean_value = np.mean(data)\n",
    "print(mean_value) \n",
    "\n",
    "matrix = np.array([[1, 2], [3, 4], [5, 6]])\n",
    "mean_by_row = np.mean(matrix, axis=1)\n",
    "print(mean_by_row) "
   ]
  },
  {
   "cell_type": "markdown",
   "id": "d537946c-d1d1-4a1d-aa21-4e494f4afc98",
   "metadata": {},
   "source": [
    "🟣 np.average():\n",
    "\n",
    "Purpose: Computes the weighted average of elements in an array. It can also compute the arithmetic mean when no weights are provided.\n",
    "\n",
    "Default behavior: Computes the arithmetic mean if no weights are specified. If weights are provided, computes the weighted average.\n",
    "\n",
    "Weighting: Supports weighted averages through the weights parameter, allowing you to assign different importances to different elements.\n"
   ]
  },
  {
   "cell_type": "code",
   "execution_count": 8,
   "id": "4555b5c4-ad15-41ec-8dd3-55940d7135b9",
   "metadata": {},
   "outputs": [
    {
     "name": "stdout",
     "output_type": "stream",
     "text": [
      "34.84615384615385\n",
      "34.0\n"
     ]
    }
   ],
   "source": [
    "# use of np.average()\n",
    "import numpy as np\n",
    "\n",
    "data = np.array([41 , 12 , 35 , 48])\n",
    "weights = np.array([5 , 6 , 7 , 8])\n",
    "\n",
    "before_avg__ = np.average( data , weights = weights)\n",
    "print(before_avg__)\n",
    "\n",
    "after_avg__ = np.average( data )\n",
    "print(after_avg__)\n"
   ]
  },
  {
   "cell_type": "markdown",
   "id": "17b87f59-f9e0-4040-b588-857a035eb249",
   "metadata": {},
   "source": [
    "Q 3. Describe the methods for reversing a numpy array along different Axis provide examples for 1D and 2D arrays ?"
   ]
  },
  {
   "cell_type": "markdown",
   "id": "58cc09c3-652d-4c53-963a-e4cb91dfa28e",
   "metadata": {},
   "source": [
    "Reversing a NumPy array means flipping the elements in the array, and this can be done along different axes for multi-dimensional arrays. \n",
    "\n",
    "1. Reversing a 1D Array\n",
    "\n",
    "For a 1D array (a simple list-like structure), reversing is straightforward and can be done using slicing i.e slicing technique [::-1]\n",
    "\n"
   ]
  },
  {
   "cell_type": "code",
   "execution_count": 13,
   "id": "a36f95c9-494a-4066-8468-563acaef5c36",
   "metadata": {},
   "outputs": [
    {
     "name": "stdout",
     "output_type": "stream",
     "text": [
      "Original array : [1 2 3 4 5]\n",
      "Reversed array : [5 4 3 2 1]\n"
     ]
    }
   ],
   "source": [
    "# 1D\n",
    "import numpy as np\n",
    "\n",
    "arr_ = np.array([ 1 ,2 , 3 ,4 , 5])\n",
    "\n",
    "reversed_arr_ = arr_[ : : -1]\n",
    "\n",
    "print('Original array :' , arr_)\n",
    "print('Reversed array :' , reversed_arr_)\n"
   ]
  },
  {
   "cell_type": "markdown",
   "id": "3d412d09-764f-4c27-b249-1bd37046bc9c",
   "metadata": {},
   "source": [
    "2. Reversing a 2D Array\n",
    "\n",
    "For a 2D array (matrix-like structure), you can reverse elements along different axes: the rows, the columns, or both.You can use slicing with [::-1, :]."
   ]
  },
  {
   "cell_type": "code",
   "execution_count": 14,
   "id": "ab7de999-d365-4789-acb8-41e719b30635",
   "metadata": {},
   "outputs": [
    {
     "name": "stdout",
     "output_type": "stream",
     "text": [
      "Original array -  [[2 4 6]\n",
      " [1 3 5]\n",
      " [8 6 3]]\n",
      "reversed array -  [[8 6 3]\n",
      " [1 3 5]\n",
      " [2 4 6]]\n"
     ]
    }
   ],
   "source": [
    "#2D\n",
    "arr_2d = np.array([[2, 4 , 6] , [1 , 3 ,5] ,[8 , 6 , 3]])\n",
    "\n",
    "reversed_arr_2d = arr_2d[ : : -1 , : ]\n",
    "print('Original array - ' , arr_2d)\n",
    "print('reversed array - ' , reversed_arr_2d)"
   ]
  },
  {
   "cell_type": "markdown",
   "id": "dc5eca84-ec49-40e0-8990-dceacfa12906",
   "metadata": {},
   "source": [
    "Q 4. How can you determine the data type of elements in a numpy array discuss the importance of data type in memory management and performance ?"
   ]
  },
  {
   "cell_type": "markdown",
   "id": "ceabe0a4-4077-46d2-bb7c-a427e0839a76",
   "metadata": {},
   "source": [
    "To determine the data type of elements in a NumPy array, you can use the dtype attribute. This tells you the data type (int, float, bool, etc.) of the array elements.\n",
    "\n",
    "Importance of Data Types in Memory Management and Performance\n",
    "\n",
    "The choice of data type in NumPy arrays is critical for two main reasons: memory management and performance.\n",
    "\n",
    "1. Memory Management\n",
    "\n",
    "Efficient Memory Usage: Different data types use varying amounts of memory. For example:\n",
    "\n",
    "• int32 uses 4 bytes (32 bits) per element.\n",
    "\n",
    "• int64 uses 8 bytes (64 bits) per element.\n",
    "\n",
    "• float32 uses 4 bytes, and float64 uses 8 bytes.                           Choosing a data type that matches your needs can significantly reduce     memory usage, especially when dealing with large arrays.\n",
    "\n",
    "2. Performance\n",
    "\n",
    "Faster Computations: Smaller data types generally allow faster computations because they require less processing power and bandwidth to move data in memory.\n",
    "\n",
    "3. Precision and Accuracy\n",
    "\n",
    "Trade-off Between Precision and Memory: While smaller data types can save memory and improve performance, they may result in loss of precision for certain calculations.\n",
    "\n",
    "• Benefits of Data Types :\r\n",
    "1.\n",
    "Memory Efficiency: Reduced memory usage.\n",
    "2.\r\n",
    "Faster Computations: Optimized operations\n",
    "3..\r\n",
    "Improved Accuracy: Reduced error\n",
    "4.s.\r\n",
    "Better Code Readability: Clear data type intentio\n",
    "• ns.\r\n",
    "Best Prac :t\n",
    "1 .ices\r\n",
    "Specify data type during array crea\n",
    "2.tion.\r\n",
    "Use np.dtype to verify data\n",
    "3. type.\r\n",
    "Avoid implicit type conve\n",
    "4.rsions.\r\n",
    "Optimize data type for specific operations."
   ]
  },
  {
   "cell_type": "markdown",
   "id": "700a237e-1a7a-4ff3-b6e6-4c2bed245913",
   "metadata": {},
   "source": [
    "Q 5. Define and the arrays in numpy and explain their key features how do they differ from Standard Python list?"
   ]
  },
  {
   "cell_type": "markdown",
   "id": "9c3e96a9-64af-48f0-b9bb-1f8cde708141",
   "metadata": {},
   "source": [
    "A NumPy array is a powerful, n-dimensional array object provided by the NumPy library in Python. NumPy arrays are homogeneous, meaning all elements in a NumPy array must be of the same data type, which allows for better performance, memory efficiency, and ease of performing mathematical operations.\n",
    "\n",
    "### Comparison of NumPy Arrays vs. Python Lists\n",
    "\n",
    "1.Data Type:\n",
    "\n",
    "NumPy Array\t- Homogeneous  (all elements must be of the same type)\n",
    "\n",
    "Python List - Heterogeneous (elements can have different types)\n",
    "\n",
    "2. Memory Efficiency\n",
    "\n",
    "Numpy array : More memory-efficient, uses contiguous memory.\n",
    "\n",
    "Python list : Less efficient, elements are pointers to objects in memory.\n",
    "\n",
    "3. Performance\n",
    "\n",
    "Numpy array : Faster for numerical operations, especially on large datasets due to vectorization.\n",
    "\n",
    "Python list : Slower, especially for numerical operations, as you need to iterate through the list manually.\n",
    "\n",
    "4. Mathematical Operations\n",
    "\n",
    "Numpy array :Supports element-wise and vectorized operations\n",
    "\n",
    "Python list : Requires loops for element-wise operations.\n",
    "\n",
    "5. Fixed Size\n",
    "\n",
    "Numpy array : Size is fixed once created.\n",
    "\n",
    "Python list : Size is dynamic (elements can be added or removed)."
   ]
  },
  {
   "cell_type": "markdown",
   "id": "359e28f4-ae17-4141-b6ac-c12019cd54f9",
   "metadata": {},
   "source": [
    "Q 6. Analyse the performance benefits of numpy Array over the Python list for large scale numerical operations ."
   ]
  },
  {
   "cell_type": "markdown",
   "id": "c93046be-590a-4e4d-95fd-f6d361c04382",
   "metadata": {},
   "source": [
    "### Key Performance Benefits of NumPy Arrays Over Python Lists\n",
    "\n",
    "1. Memory Efficiency\n",
    "\n",
    "NumPy arrays are more memory-efficient than Python lists because they store data in contiguous blocks of memory. This allows for more efficient access and manipulation of data.\n",
    "\n",
    "Python lists, on the other hand, are arrays of pointers to objects, meaning each element is a reference to an object, rather than the object itself. This results in higher memory usage, especially with large datasets.\n",
    "\n",
    "2. Speed of Numerical Operations\n",
    "\n",
    "NumPy is optimized for numerical operations by relying on vectorized operations. These operations allow you to perform computations on entire arrays without using loops, which would slow down performance in Python lists.\n",
    "\n",
    "3.  Lower Overhead in Operations\n",
    "\n",
    "NumPy operations are compiled at a low level , so they incur less overhead compared to Python's higher-level abstraction in loops and data handling.\n",
    "\n",
    "In contrast, Python lists rely on high-level abstractions, which are slower, especially when handling large datasets. The operations are interpreted by Python's runtime rather than compiled for performance.\n",
    "\n",
    "4. . Broadcasting in NumPy\n",
    "\n",
    "Broadcasting is a powerful feature in NumPy that allows operations to be performed on arrays of different shapes in a memory-efficient manner. NumPy automatically expands smaller arrays to match the shape of larger arrays during operations, eliminating the need for manual looping.\n",
    "\n",
    "Python lists do not have any concept of broadcasting, and to perform element-wise operations on lists of different sizes, you would need to manually loop and handle the operation.\n",
    "\n",
    "5. Vectorized Operations in NumPy\n",
    "\n",
    "Vectorization refers to applying an operation to all elements of a NumPy array without using loops. This is achieved using optimized C or Fortran code under the hood, making operations much faster.\n",
    "\n",
    "With Python lists, you must loop over the elements manually, which introduces a significant performance bottleneck, especially for large-scale operations.\n",
    "\n",
    "\n"
   ]
  },
  {
   "cell_type": "code",
   "execution_count": 2,
   "id": "ff0ec6af-692d-4ca7-8fa9-9e4a363550fc",
   "metadata": {},
   "outputs": [
    {
     "name": "stdout",
     "output_type": "stream",
     "text": [
      "[[ 0  2  4]\n",
      " [ 6  8 10]]\n"
     ]
    }
   ],
   "source": [
    "##numpy broadcasting\n",
    "import numpy as np\n",
    "arr = np.arange(6).reshape(2, 3)\n",
    "scalar = 2\n",
    "\n",
    "result = arr * scalar\n",
    "print(result)"
   ]
  },
  {
   "cell_type": "markdown",
   "id": "cc6e8804-407b-476a-b458-1193c2abd723",
   "metadata": {},
   "source": [
    "Q 7. Compare vstack( )  and  hstack( ) function in numpy provide examples demonstrating their usage and output ?"
   ]
  },
  {
   "cell_type": "markdown",
   "id": "3ea2837a-4fad-4934-914d-a4e5a206369f",
   "metadata": {},
   "source": [
    "The vstack() and hstack() functions in NumPy are used to stack arrays vertically and horizontally, respectively.\n",
    "\n",
    "1. numpy.vstack()\n",
    "\n",
    "Purpose: Stacks arrays in sequence vertically (row-wise).\n",
    "\n",
    "Input: Arrays to be stacked must have the same shape along all but the first axis.\n",
    "\n",
    "2. numpy.hstack()\n",
    "\n",
    "Purpose: Stacks arrays in sequence horizontally (column-wise).\n",
    "\n",
    "Input: Arrays to be stacked must have the same shape along all but the second axis."
   ]
  },
  {
   "cell_type": "code",
   "execution_count": 3,
   "id": "9dd574f0-b690-4325-a2bf-45883f7731a9",
   "metadata": {},
   "outputs": [
    {
     "name": "stdout",
     "output_type": "stream",
     "text": [
      "Vertical Stack (vstack):\n",
      "[[ 1  2  3]\n",
      " [ 4  5  6]\n",
      " [ 7  8  9]\n",
      " [10 11 12]]\n"
     ]
    }
   ],
   "source": [
    "#for vstack( )\n",
    "import numpy as np\n",
    "\n",
    "#  2D \n",
    "array1 = np.array([[1, 2, 3], [4, 5, 6]])\n",
    "array2 = np.array([[7, 8, 9], [10, 11, 12]])\n",
    "\n",
    "# vertically\n",
    "vstack_result = np.vstack((array1, array2))\n",
    "\n",
    "print(\"Vertical Stack (vstack):\")\n",
    "print(vstack_result)\n"
   ]
  },
  {
   "cell_type": "code",
   "execution_count": 4,
   "id": "7b24719c-4f1a-4494-a9e7-d549cf50e362",
   "metadata": {},
   "outputs": [
    {
     "name": "stdout",
     "output_type": "stream",
     "text": [
      "Horizontal Stack (hstack):\n",
      "[[ 1  2  3  7  8  9]\n",
      " [ 4  5  6 10 11 12]]\n"
     ]
    }
   ],
   "source": [
    "#for hstack( )\n",
    "import numpy as np\n",
    "\n",
    "#  2D \n",
    "array1 = np.array([[1, 2, 3], [4, 5, 6]])\n",
    "array2 = np.array([[7, 8, 9], [10, 11, 12]])\n",
    "\n",
    "# vertically\n",
    "hstack_result = np.hstack((array1, array2))\n",
    "\n",
    "print(\"Horizontal Stack (hstack):\")\n",
    "print(hstack_result)\n"
   ]
  },
  {
   "cell_type": "markdown",
   "id": "7711282b-f488-47a0-819a-3c7c2a9df760",
   "metadata": {},
   "source": [
    "Q 8. Explain the differences between fliplr ( )  and flipud( )  method in Python including their effects on various array dimension ."
   ]
  },
  {
   "cell_type": "markdown",
   "id": "680307d8-4f82-4dc4-8abd-9b79b716b634",
   "metadata": {},
   "source": [
    "The fliplr() and flipud() functions in NumPy are used to flip arrays in the left-right and up-down directions, respectively. Both functions are part of the NumPy library and provide a way to manipulate the orientation of arrays. \n",
    "\n",
    "1. numpy.fliplr()\n",
    "\n",
    "Purpose: Flips an array from left to right (horizontally).\n",
    "\n",
    "Input: Works on 2D arrays (matrices) and flips each row.\n",
    "\n",
    "Behavior: For each row, the order of elements is reversed.\n",
    "\n",
    "2. numpy.flipud()\n",
    "\n",
    "Purpose: Flips an array from up to down (vertically).\n",
    "\n",
    "Input: Works on 2D arrays (matrices) and flips each column.\n",
    "\n",
    "Behavior: For each column, the order of elements is reversed.\n",
    "\n",
    "### Effects on Various Array Dimensions\n",
    "\n",
    "1. 1D Arrays:\n",
    "\n",
    "fliplr(): Not applicable. It will raise a ValueError because it requires a 2D array.\n",
    "\n",
    "flipud(): Not applicable. It will also raise a ValueError.\n",
    "\n",
    "2. 2D Arrays:\n",
    "\n",
    "Both fliplr() and flipud() are applicable \n",
    "\n",
    "3. 3D Arrays:\n",
    "\n",
    "fliplr(): Flips the last axis (width) of each 2D slice along the first axis.\n",
    "\n",
    "flipud(): Flips along the second axis (height) of each 2D slice along the first axis."
   ]
  },
  {
   "cell_type": "code",
   "execution_count": 7,
   "id": "b764f4e6-b3eb-4d02-9a8c-adfa54b0a386",
   "metadata": {},
   "outputs": [
    {
     "name": "stdout",
     "output_type": "stream",
     "text": [
      "Original Array:\n",
      "[[1 2 3]\n",
      " [4 5 6]]\n",
      "flipped :\n",
      "[[3 2 1]\n",
      " [6 5 4]]\n"
     ]
    }
   ],
   "source": [
    "import numpy as np\n",
    "\n",
    "array_2d = np.array([[1, 2, 3], \n",
    "                     [4, 5, 6]])\n",
    "\n",
    "flipped_lr = np.fliplr(array_2d)\n",
    "\n",
    "print(\"Original Array:\")\n",
    "print(array_2d)\n",
    "\n",
    "print(\"flipped :\"  #flipped horizontally\n",
    "print(flipped_lr )"
   ]
  },
  {
   "cell_type": "code",
   "execution_count": 9,
   "id": "00cbbdb0-9ccf-49a7-a3bb-6a6dea432871",
   "metadata": {},
   "outputs": [
    {
     "name": "stdout",
     "output_type": "stream",
     "text": [
      "Original Array:\n",
      "[[1 2 3]\n",
      " [4 5 6]]\n",
      "flipped :\n",
      "[[4 5 6]\n",
      " [1 2 3]]\n"
     ]
    }
   ],
   "source": [
    "import numpy as np\n",
    "\n",
    "array_2d = np.array([[1, 2, 3], \n",
    "                     [4, 5, 6]])\n",
    "\n",
    "flipped_lr = np.flipud(array_2d)\n",
    "\n",
    "print(\"Original Array:\")\n",
    "print(array_2d)\n",
    "\n",
    "print(\"flipped :\") #flipped vertically\n",
    "print(flipped_lr )"
   ]
  },
  {
   "cell_type": "markdown",
   "id": "c90acd7e-6ff2-4d16-8f06-f2f8889a18a9",
   "metadata": {},
   "source": [
    "Q 9. Discuss the functionality of the arrays left method in numpy . How does it handle uneven splits?"
   ]
  },
  {
   "cell_type": "markdown",
   "id": "09243b5c-37dc-497c-9b52-2e25d0d80801",
   "metadata": {},
   "source": [
    "### Array Split Functionality in NumPy\r\n",
    "\n",
    "The array_split() method in NumPy divides an array into multiple sub-arrays along a specified axis.\r",
    "1. ary: The input array to be split.\n",
    "\n",
    "2. indices_or_sections: This can be an integer specifying the number of equal-sized sub-arrays to create, or it can be an array of indices at which to split the array.\n",
    "\n",
    "3. axis: The axis along which to split the array. The default is 0, meaning it will split along the first axis (rows for 2D arrays).\n",
    "\n",
    "4. Returns: A list of sub-arrays.\n",
    "\n",
    "5. Handles Uneven Splits: If the array cannot be evenly divided, numpy.array_split() ensures that the extra elements are distributed across the resulting sub-arrays. This is particularly useful when you need to split an array into a specific number of parts, but the total size of the array does not divide evenly.\n",
    "\n",
    "\n",
    " ault: 0)\r\n",
    "Func\n",
    "1. tionality\r\n",
    "Equal Splits: If indices_or_sections is an integer, the array is divided into equal-sized s\n",
    "2. ub-arrays.\r\n",
    "Uneven Splits: If indices_or_sections is a list of indices, the array is split at those specific points."
   ]
  },
  {
   "cell_type": "code",
   "execution_count": 12,
   "id": "896f1b1c-a52f-41da-a4a6-7f670cacee3d",
   "metadata": {},
   "outputs": [
    {
     "name": "stdout",
     "output_type": "stream",
     "text": [
      "Split Result (Even):\n",
      "[1 2]\n",
      "[3 4]\n",
      "[5 6]\n"
     ]
    }
   ],
   "source": [
    "import numpy as np\n",
    "\n",
    "array_1d = np.array([1, 2, 3, 4, 5, 6])\n",
    "\n",
    "result = np.array_split(array_1d, 3)\n",
    "\n",
    "print(\"Split Result (Even):\")\n",
    "for sub_array in result:\n",
    "    print(sub_array)"
   ]
  },
  {
   "cell_type": "markdown",
   "id": "2fd810ce-8566-47f7-90c6-d7e51d745cdb",
   "metadata": {},
   "source": [
    "Q 10. Explain the concept of factorization and broadcasting and numpy . how do they contribute to effective array operation ?"
   ]
  },
  {
   "cell_type": "markdown",
   "id": "f2421cf1-9665-481e-91df-857268c4e5f2",
   "metadata": {},
   "source": [
    "1. Factorization in NumPy\n",
    "\n",
    "Factorization refers to the process of decomposing a complex structure into simpler components. In the context of NumPy, factorization can often relate to operations that involve decomposing arrays, such as linear algebra operations, matrix factorizations .\n",
    "\n",
    "2. Broadcasting in NumPy\n",
    "\n",
    "Broadcasting is a powerful feature of NumPy that allows arithmetic operations between arrays of different shapes. It automatically expands the smaller array across the larger array's dimensions without creating copies of the data, making operations more efficient in terms of memory and speed.\n",
    "\n",
    "### Contribution to effective array operations\n",
    "\n",
    "1. Efficiency:\n",
    "\n",
    "Broadcasting eliminates the need for explicit looping and replication of data, making operations faster and less memory-intensive.\n",
    "\n",
    "2. Numerical Stability:\n",
    "\n",
    "Factorization techniques can improve numerical stability when solving mathematical problems, such as linear systems.\n",
    "\n",
    "3. Handling Different Shapes:\n",
    "\n",
    "Broadcasting allows for flexibility when working with arrays of varying shapes, which is common in real-world data analysis and machine learning applications. \n"
   ]
  },
  {
   "cell_type": "code",
   "execution_count": 13,
   "id": "3c7c6581-39d4-4b17-b2b9-f25074a8f4cf",
   "metadata": {},
   "outputs": [
    {
     "name": "stdout",
     "output_type": "stream",
     "text": [
      "Result of Broadcasting:\n",
      "[[11 12 13]\n",
      " [21 22 23]\n",
      " [31 32 33]]\n"
     ]
    }
   ],
   "source": [
    "#broadcasting\n",
    "import numpy as np\n",
    "\n",
    "a = np.array([1, 2, 3])\n",
    "\n",
    "b = np.array([[10], \n",
    "              [20], \n",
    "              [30]])\n",
    "\n",
    "result = a + b\n",
    "print(\"Result of Broadcasting:\")\n",
    "print(result)"
   ]
  },
  {
   "cell_type": "markdown",
   "id": "748c21c6-7a23-452d-a874-bfc2c4e25d6f",
   "metadata": {},
   "source": [
    "## Practical questions:"
   ]
  },
  {
   "cell_type": "markdown",
   "id": "0115a54e-2eb2-48c4-b56b-f91a285febc6",
   "metadata": {},
   "source": [
    "Q 1. Create a 3x3 mnumpy array with random integers betwwen 1 and 100 . Then , intercghanges its rows and columns."
   ]
  },
  {
   "cell_type": "code",
   "execution_count": 18,
   "id": "23a65614-b82a-4ce7-8a7f-33b1be835a40",
   "metadata": {},
   "outputs": [
    {
     "name": "stdout",
     "output_type": "stream",
     "text": [
      "Original array:\n",
      "[[37 83 24]\n",
      " [27 41 26]\n",
      " [56 65 74]]\n",
      "\n",
      "Transposed array:\n",
      "[[37 27 56]\n",
      " [83 41 65]\n",
      " [24 26 74]]\n"
     ]
    }
   ],
   "source": [
    "import numpy as np\n",
    "\n",
    "# Create a 3x3 array with random integers between 1 and 100\n",
    "arr_ = np.random.randint(1, 101, size=(3, 3))\n",
    "print(\"Original array:\")\n",
    "print(arr_)\n",
    "\n",
    "# Transpose the array\n",
    "arr_transpose = arr_.transpose()\n",
    "print(\"\\nTransposed array:\")\n",
    "print(arr_transpose)"
   ]
  },
  {
   "cell_type": "markdown",
   "id": "fb8a5f17-2d6d-4cb1-acda-b94b65d5c2b9",
   "metadata": {},
   "source": [
    "Q 2. Generate a 1D Numpy array with 10 elements. Reshape it into a 2x5 array, then into a 5x2 ."
   ]
  },
  {
   "cell_type": "code",
   "execution_count": 21,
   "id": "895b6340-6c58-4f88-8c0e-21ef6b2728c5",
   "metadata": {},
   "outputs": [
    {
     "name": "stdout",
     "output_type": "stream",
     "text": [
      "1D ARRAY:\n",
      "[0 1 2 3 4 5 6 7 8 9]\n",
      "\n",
      "Reshaped to 2x5 Array:\n",
      "[[0 1 2 3 4]\n",
      " [5 6 7 8 9]]\n",
      "\n",
      "Reshaped to 5x2 Array:\n",
      "[[0 1]\n",
      " [2 3]\n",
      " [4 5]\n",
      " [6 7]\n",
      " [8 9]]\n"
     ]
    }
   ],
   "source": [
    "import numpy as np\n",
    "\n",
    "arr_ = np.arange(10)  \n",
    "\n",
    "arr_2x5 = arr_.reshape(2, 5) \n",
    "arr_5x2 = arr_.reshape(5, 2) \n",
    "\n",
    "print(\"1D ARRAY:\")\n",
    "print(arr_)\n",
    "\n",
    "print(\"\\nReshaped to 2x5 Array:\")\n",
    "print(arr_2x5)\n",
    "\n",
    "print(\"\\nReshaped to 5x2 Array:\")\n",
    "print(arr_5x2)"
   ]
  },
  {
   "cell_type": "markdown",
   "id": "00759c68-3ad2-43d2-883c-73173f07e67e",
   "metadata": {},
   "source": [
    "Q 3.Create a 4x4 numpy array with random float values.Add a border of zeros around it ,resulting in a 6x6 array."
   ]
  },
  {
   "cell_type": "code",
   "execution_count": 22,
   "id": "b53bd63f-18b4-4724-b6eb-de53e156a265",
   "metadata": {},
   "outputs": [
    {
     "name": "stdout",
     "output_type": "stream",
     "text": [
      "Original 4x4 Array:\n",
      "[[0.22210399 0.02118719 0.47469599 0.5553811 ]\n",
      " [0.05995602 0.18709953 0.51120522 0.1223028 ]\n",
      " [0.31455622 0.5226355  0.94025225 0.49397587]\n",
      " [0.32653476 0.99444486 0.66477065 0.29864895]]\n",
      "\n",
      "6x6 Array with Border of Zeros:\n",
      "[[0.         0.         0.         0.         0.         0.        ]\n",
      " [0.         0.22210399 0.02118719 0.47469599 0.5553811  0.        ]\n",
      " [0.         0.05995602 0.18709953 0.51120522 0.1223028  0.        ]\n",
      " [0.         0.31455622 0.5226355  0.94025225 0.49397587 0.        ]\n",
      " [0.         0.32653476 0.99444486 0.66477065 0.29864895 0.        ]\n",
      " [0.         0.         0.         0.         0.         0.        ]]\n"
     ]
    }
   ],
   "source": [
    "import numpy as np\n",
    "\n",
    "original_array = np.random.rand(4, 4)\n",
    "\n",
    "bordered_array = np.pad(original_array, pad_width=1, mode='constant',\n",
    "                        constant_values=0)\n",
    "\n",
    "print(\"Original 4x4 Array:\")\n",
    "print(original_array)\n",
    "\n",
    "print(\"\\n6x6 Array with Border of Zeros:\")\n",
    "print(bordered_array)"
   ]
  },
  {
   "cell_type": "markdown",
   "id": "198999d7-e76d-4181-82c1-a3ac4639ddc0",
   "metadata": {},
   "source": [
    "Q 4.Using numpy, create an array of integer from 10 to a 60 with a step of 5."
   ]
  },
  {
   "cell_type": "code",
   "execution_count": 23,
   "id": "64d01450-e63e-4037-8c1a-852d0200f810",
   "metadata": {},
   "outputs": [
    {
     "name": "stdout",
     "output_type": "stream",
     "text": [
      "[10 15 20 25 30 35 40 45 50 55 60]\n"
     ]
    }
   ],
   "source": [
    "import numpy as np\n",
    "\n",
    "array = np.arange(10, 61, 5)\n",
    "\n",
    "print(array)"
   ]
  },
  {
   "cell_type": "markdown",
   "id": "4b97db07-ab98-4a6f-8ca2-a86a1e0cf1be",
   "metadata": {},
   "source": [
    "Q 5. Create a numpy array of strings .Apply different case transformations (uppercase , lowercase , titlecase etc) to each element."
   ]
  },
  {
   "cell_type": "code",
   "execution_count": 24,
   "id": "96e0dfc6-202a-4175-83cb-e1c563a50776",
   "metadata": {},
   "outputs": [
    {
     "name": "stdout",
     "output_type": "stream",
     "text": [
      "Original Array: ['hello' 'world' 'numpy' 'array' 'transformations']\n",
      "Uppercase Array: ['HELLO' 'WORLD' 'NUMPY' 'ARRAY' 'TRANSFORMATIONS']\n",
      "Lowercase Array: ['hello' 'world' 'numpy' 'array' 'transformations']\n",
      "Titlecase Array: ['Hello' 'World' 'Numpy' 'Array' 'Transformations']\n",
      "Capitalize Array: ['Hello' 'World' 'Numpy' 'Array' 'Transformations']\n"
     ]
    }
   ],
   "source": [
    "import numpy as np\n",
    "\n",
    "string_array = np.array([\"hello\", \"world\", \"numpy\", \"array\",\n",
    "                         \"transformations\"])\n",
    "\n",
    "uppercase_array = np.char.upper(string_array)        # Uppercase\n",
    "lowercase_array = np.char.lower(string_array)        # Lowercase\n",
    "titlecase_array = np.char.title(string_array)        # Titlecase\n",
    "capitalize_array = np.char.capitalize(string_array)  # Capitalize\n",
    "\n",
    "# Print the results\n",
    "print(\"Original Array:\", string_array)\n",
    "print(\"Uppercase Array:\", uppercase_array)\n",
    "print(\"Lowercase Array:\", lowercase_array)\n",
    "print(\"Titlecase Array:\", titlecase_array)\n",
    "print(\"Capitalize Array:\", capitalize_array)"
   ]
  },
  {
   "cell_type": "markdown",
   "id": "b1803f64-6d9f-4bc6-ae51-a78727271f40",
   "metadata": {},
   "source": [
    "Q 6. Generate a numpy array of words , insert a space between each characterof every word in the array."
   ]
  },
  {
   "cell_type": "code",
   "execution_count": 25,
   "id": "5aa92682-f2fa-4f35-8381-22c99baf7e24",
   "metadata": {},
   "outputs": [
    {
     "name": "stdout",
     "output_type": "stream",
     "text": [
      "Original Array: ['hello' 'world' 'numpy' 'array' 'transformations']\n",
      "Array with spaces: ['h e l l o' 'w o r l d' 'n u m p y' 'a r r a y'\n",
      " 't r a n s f o r m a t i o n s']\n"
     ]
    }
   ],
   "source": [
    "import numpy as np\n",
    "\n",
    "words_array = np.array([\"hello\", \"world\", \"numpy\", \"array\",\n",
    "                        \"transformations\"])\n",
    "\n",
    "spaced_array = np.char.join(' ', words_array)\n",
    "\n",
    "print(\"Original Array:\", words_array)\n",
    "print(\"Array with spaces:\", spaced_array)"
   ]
  },
  {
   "cell_type": "markdown",
   "id": "21e96bba-8e73-4b2f-9504-1a4319634392",
   "metadata": {},
   "source": [
    "Q 7.create to do the numpy arrays and perform element wise addition subtraction multiplication division."
   ]
  },
  {
   "cell_type": "code",
   "execution_count": 26,
   "id": "5841da53-64c2-47d7-b80d-45d4c4290a31",
   "metadata": {},
   "outputs": [
    {
     "name": "stdout",
     "output_type": "stream",
     "text": [
      "Array 1: [10 20 30 40 50]\n",
      "Array 2: [1 2 3 4 5]\n",
      "Addition Result: [11 22 33 44 55]\n",
      "Subtraction Result: [ 9 18 27 36 45]\n",
      "Multiplication Result: [ 10  40  90 160 250]\n",
      "Division Result: [10. 10. 10. 10. 10.]\n"
     ]
    }
   ],
   "source": [
    "import numpy as np\n",
    "\n",
    "array1 = np.array([10, 20, 30, 40, 50])\n",
    "array2 = np.array([1, 2, 3, 4, 5])\n",
    "\n",
    "#  addition\n",
    "addition_result = array1 + array2\n",
    "\n",
    "#subtraction\n",
    "subtraction_result = array1 - array2\n",
    "\n",
    "# multiplication\n",
    "multiplication_result = array1 * array2\n",
    "\n",
    "#  division\n",
    "division_result = array1 / array2\n",
    "\n",
    "print(\"Array 1:\", array1)\n",
    "print(\"Array 2:\", array2)\n",
    "print(\"Addition Result:\", addition_result)\n",
    "print(\"Subtraction Result:\", subtraction_result)\n",
    "print(\"Multiplication Result:\", multiplication_result)\n",
    "print(\"Division Result:\", division_result)"
   ]
  },
  {
   "cell_type": "markdown",
   "id": "27976d94-e6fc-4727-8523-532353edbee2",
   "metadata": {},
   "source": [
    "Q 8.use numpy to create a 5 x 5 identity Matrix then extract its diagonal elements."
   ]
  },
  {
   "cell_type": "code",
   "execution_count": 28,
   "id": "4817d327-b106-4a04-ad89-cb4378802d11",
   "metadata": {},
   "outputs": [
    {
     "name": "stdout",
     "output_type": "stream",
     "text": [
      "Identity Matrix:\n",
      " [[1. 0. 0. 0. 0.]\n",
      " [0. 1. 0. 0. 0.]\n",
      " [0. 0. 1. 0. 0.]\n",
      " [0. 0. 0. 1. 0.]\n",
      " [0. 0. 0. 0. 1.]]\n",
      "Diagonal Elements: [1. 1. 1. 1. 1.]\n"
     ]
    }
   ],
   "source": [
    "import numpy as np\n",
    "\n",
    "identity_matrix = np.eye(5)\n",
    "\n",
    "diagonal_elements = identity_matrix.diagonal()\n",
    "\n",
    "print(\"Identity Matrix:\\n\", identity_matrix)\n",
    "print(\"Diagonal Elements:\", diagonal_elements)"
   ]
  },
  {
   "cell_type": "markdown",
   "id": "32e8a99c-d398-4ff6-b461-f6a775487449",
   "metadata": {},
   "source": [
    "Q9.generate a numpy array of 100 random integers between 1 to 1000 .  find and display all prime numbers in this array."
   ]
  },
  {
   "cell_type": "code",
   "execution_count": 29,
   "id": "25172a8b-f273-4f39-9c3d-b8662140e9d5",
   "metadata": {},
   "outputs": [
    {
     "name": "stdout",
     "output_type": "stream",
     "text": [
      "Random Array: [990 584 496 967 232 650 130 463 599 876 897 172 233 112 504 335 704  37\n",
      " 866 725 161  87 930 128 764 196 898  62 287 207 575 560 884 797 183 431\n",
      " 580 422 420 901 596  92 268 577 880 910  19 144 976 211   1 707  73 771\n",
      " 142 506 349 219 889  75 399 948 761 581 606 865 489 730 505 726 372 742\n",
      " 420 372 139 580 980 425 156 629 767 556 766 679 244 368 216 835 681 509\n",
      "  78 332 545 289 417 716 404 566 416 806]\n",
      "Prime Numbers in the Array: [967, 463, 599, 233, 37, 797, 431, 577, 19, 211, 73, 349, 761, 139, 509]\n"
     ]
    }
   ],
   "source": [
    "import numpy as np\n",
    "\n",
    "def is_prime(n):\n",
    "    if n <= 1:\n",
    "        return False\n",
    "    for i in range(2, int(n**0.5) + 1):\n",
    "        if n % i == 0:\n",
    "            return False\n",
    "    return True\n",
    "\n",
    "random_array = np.random.randint(1, 1001, size=100)\n",
    "\n",
    "prime_numbers = [num for num in random_array if is_prime(num)]\n",
    "\n",
    "print(\"Random Array:\", random_array)\n",
    "print(\"Prime Numbers in the Array:\", prime_numbers)"
   ]
  },
  {
   "cell_type": "markdown",
   "id": "14981401-e627-4d38-9deb-b1b6f8a9e1e2",
   "metadata": {},
   "source": [
    "Q 10. create a number by array representing daily temperature for a month calculate and display the weekly average."
   ]
  },
  {
   "cell_type": "code",
   "execution_count": 32,
   "id": "12fe0f2a-ed51-4e7b-9647-62fae0be2a55",
   "metadata": {},
   "outputs": [
    {
     "name": "stdout",
     "output_type": "stream",
     "text": [
      "Daily Temperatures (°F):\n",
      "[22.49377059 32.64732753 38.26775466 25.70553947 31.50081204 31.0875109\n",
      " 30.10052966 21.85655136 28.66638942 25.02423391 27.98603391 37.58010518\n",
      " 30.80618729 22.02366288 36.59193214 37.3206421  35.86549178 34.34042435\n",
      " 35.85518433 35.57873593 36.81065177 20.28057389 33.06669433 37.33927215\n",
      " 21.92480113 21.18374401 24.40805825 33.78023154 23.03571724 31.30081029\n",
      " 35.81660279]\n",
      "\n",
      "Weekly Averages (°F):\n",
      "Week 1: 30.26\n",
      "Week 2: 27.71\n",
      "Week 3: 36.05\n",
      "Week 4: 27.43\n",
      "Week 5: 30.05\n"
     ]
    }
   ],
   "source": [
    "import numpy as np\n",
    "import calendar\n",
    "\n",
    "days_in_month = calendar.monthrange(2024, 1)[1]  \n",
    "daily_temperatures = np.random.uniform(20, 40, size=days_in_month)  \n",
    "\n",
    "print(\"Daily Temperatures (°F):\")\n",
    "print(daily_temperatures)\n",
    "\n",
    "# Calculate weekly averages\n",
    "num_weeks = int(np.ceil(days_in_month / 7))  \n",
    "weekly_averages = [np.mean(daily_temperatures[i*7:(i+1)*7]) \n",
    "                   for i in range(num_weeks)]\n",
    "\n",
    "print(\"\\nWeekly Averages (°F):\")\n",
    "for i, avg in enumerate(weekly_averages):\n",
    "    print(f\"Week {i+1}: {avg:.2f}\")\n"
   ]
  },
  {
   "cell_type": "code",
   "execution_count": null,
   "id": "b983f5cb-e9fa-494a-b491-6f30c2525546",
   "metadata": {},
   "outputs": [],
   "source": []
  }
 ],
 "metadata": {
  "kernelspec": {
   "display_name": "Python 3 (ipykernel)",
   "language": "python",
   "name": "python3"
  },
  "language_info": {
   "codemirror_mode": {
    "name": "ipython",
    "version": 3
   },
   "file_extension": ".py",
   "mimetype": "text/x-python",
   "name": "python",
   "nbconvert_exporter": "python",
   "pygments_lexer": "ipython3",
   "version": "3.12.4"
  }
 },
 "nbformat": 4,
 "nbformat_minor": 5
}
